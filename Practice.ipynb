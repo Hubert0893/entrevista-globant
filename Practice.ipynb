{
 "cells": [
  {
   "cell_type": "code",
   "execution_count": 37,
   "id": "204da351",
   "metadata": {},
   "outputs": [
    {
     "name": "stdout",
     "output_type": "stream",
     "text": [
      "8\n"
     ]
    }
   ],
   "source": [
    "def fibonacci(x):\n",
    "    f = [0]*(x+1)\n",
    "    f[0] = 1; f[1] = 1\n",
    "    for n in range(2,x+1):\n",
    "        f[n] = f[n-1] + f[n-2]\n",
    "    print(f[x])\n",
    "        \n",
    "fibonacci(5)"
   ]
  },
  {
   "cell_type": "code",
   "execution_count": 40,
   "id": "84faf94b",
   "metadata": {},
   "outputs": [
    {
     "data": {
      "text/plain": [
       "21"
      ]
     },
     "execution_count": 40,
     "metadata": {},
     "output_type": "execute_result"
    }
   ],
   "source": [
    "def suma_n_naturales(n):\n",
    "    x = n*(n+1)/2\n",
    "    return int(x)\n",
    "\n",
    "suma_n_naturales(6)"
   ]
  },
  {
   "cell_type": "code",
   "execution_count": 49,
   "id": "5935fe14",
   "metadata": {},
   "outputs": [
    {
     "data": {
      "text/html": [
       "<div>\n",
       "<style scoped>\n",
       "    .dataframe tbody tr th:only-of-type {\n",
       "        vertical-align: middle;\n",
       "    }\n",
       "\n",
       "    .dataframe tbody tr th {\n",
       "        vertical-align: top;\n",
       "    }\n",
       "\n",
       "    .dataframe thead th {\n",
       "        text-align: right;\n",
       "    }\n",
       "</style>\n",
       "<table border=\"1\" class=\"dataframe\">\n",
       "  <thead>\n",
       "    <tr style=\"text-align: right;\">\n",
       "      <th></th>\n",
       "      <th>Name</th>\n",
       "      <th>Type</th>\n",
       "      <th>Unnamed: 2</th>\n",
       "      <th>Unnamed: 3</th>\n",
       "      <th>Unnamed: 4</th>\n",
       "    </tr>\n",
       "  </thead>\n",
       "  <tbody>\n",
       "    <tr>\n",
       "      <th>0</th>\n",
       "      <td>RECA_PK</td>\n",
       "      <td>NUMBER</td>\n",
       "      <td>NUMERIC</td>\n",
       "      <td>RECA_PK NUMERIC,</td>\n",
       "      <td>RECA_PK,</td>\n",
       "    </tr>\n",
       "    <tr>\n",
       "      <th>1</th>\n",
       "      <td>TO_PK</td>\n",
       "      <td>NUMBER</td>\n",
       "      <td>NUMERIC</td>\n",
       "      <td>TO_PK NUMERIC,</td>\n",
       "      <td>TO_PK,</td>\n",
       "    </tr>\n",
       "    <tr>\n",
       "      <th>2</th>\n",
       "      <td>RECA_GPO_PTO_REC</td>\n",
       "      <td>VARCHAR2(60)</td>\n",
       "      <td>STRING</td>\n",
       "      <td>RECA_GPO_PTO_REC STRING,</td>\n",
       "      <td>RECA_GPO_PTO_REC,</td>\n",
       "    </tr>\n",
       "    <tr>\n",
       "      <th>3</th>\n",
       "      <td>RECA_GPO_NRO_REC</td>\n",
       "      <td>NUMBER</td>\n",
       "      <td>NUMERIC</td>\n",
       "      <td>RECA_GPO_NRO_REC NUMERIC,</td>\n",
       "      <td>RECA_GPO_NRO_REC,</td>\n",
       "    </tr>\n",
       "    <tr>\n",
       "      <th>4</th>\n",
       "      <td>RECA_FEC_EMIS</td>\n",
       "      <td>DATE</td>\n",
       "      <td>TIMESTAMP</td>\n",
       "      <td>RECA_FEC_EMIS TIMESTAMP,</td>\n",
       "      <td>RECA_FEC_EMIS,</td>\n",
       "    </tr>\n",
       "  </tbody>\n",
       "</table>\n",
       "</div>"
      ],
      "text/plain": [
       "               Name          Type Unnamed: 2                 Unnamed: 3  \\\n",
       "0           RECA_PK        NUMBER    NUMERIC           RECA_PK NUMERIC,   \n",
       "1             TO_PK        NUMBER    NUMERIC             TO_PK NUMERIC,   \n",
       "2  RECA_GPO_PTO_REC  VARCHAR2(60)     STRING   RECA_GPO_PTO_REC STRING,   \n",
       "3  RECA_GPO_NRO_REC        NUMBER    NUMERIC  RECA_GPO_NRO_REC NUMERIC,   \n",
       "4     RECA_FEC_EMIS          DATE  TIMESTAMP   RECA_FEC_EMIS TIMESTAMP,   \n",
       "\n",
       "          Unnamed: 4  \n",
       "0           RECA_PK,  \n",
       "1             TO_PK,  \n",
       "2  RECA_GPO_PTO_REC,  \n",
       "3  RECA_GPO_NRO_REC,  \n",
       "4     RECA_FEC_EMIS,  "
      ]
     },
     "execution_count": 49,
     "metadata": {},
     "output_type": "execute_result"
    }
   ],
   "source": [
    "#!pip install pandas\n",
    "import pandas as pd\n",
    "\n",
    "data = pd.read_csv('XHIS6_RECIBOS_CAB_metadata.csv', sep=';', nrows=100)\n",
    "\n",
    "data.head()"
   ]
  },
  {
   "cell_type": "code",
   "execution_count": 50,
   "id": "08917d24",
   "metadata": {},
   "outputs": [
    {
     "data": {
      "text/html": [
       "<div>\n",
       "<style scoped>\n",
       "    .dataframe tbody tr th:only-of-type {\n",
       "        vertical-align: middle;\n",
       "    }\n",
       "\n",
       "    .dataframe tbody tr th {\n",
       "        vertical-align: top;\n",
       "    }\n",
       "\n",
       "    .dataframe thead th {\n",
       "        text-align: right;\n",
       "    }\n",
       "</style>\n",
       "<table border=\"1\" class=\"dataframe\">\n",
       "  <thead>\n",
       "    <tr style=\"text-align: right;\">\n",
       "      <th></th>\n",
       "      <th>Name</th>\n",
       "      <th>Type</th>\n",
       "      <th>Type_gcp</th>\n",
       "      <th>Unnamed: 3</th>\n",
       "      <th>Unnamed: 4</th>\n",
       "    </tr>\n",
       "  </thead>\n",
       "  <tbody>\n",
       "    <tr>\n",
       "      <th>0</th>\n",
       "      <td>RECA_PK</td>\n",
       "      <td>NUMBER</td>\n",
       "      <td>NUMERIC</td>\n",
       "      <td>RECA_PK NUMERIC,</td>\n",
       "      <td>RECA_PK,</td>\n",
       "    </tr>\n",
       "    <tr>\n",
       "      <th>1</th>\n",
       "      <td>TO_PK</td>\n",
       "      <td>NUMBER</td>\n",
       "      <td>NUMERIC</td>\n",
       "      <td>TO_PK NUMERIC,</td>\n",
       "      <td>TO_PK,</td>\n",
       "    </tr>\n",
       "    <tr>\n",
       "      <th>2</th>\n",
       "      <td>RECA_GPO_PTO_REC</td>\n",
       "      <td>VARCHAR2(60)</td>\n",
       "      <td>STRING</td>\n",
       "      <td>RECA_GPO_PTO_REC STRING,</td>\n",
       "      <td>RECA_GPO_PTO_REC,</td>\n",
       "    </tr>\n",
       "    <tr>\n",
       "      <th>3</th>\n",
       "      <td>RECA_GPO_NRO_REC</td>\n",
       "      <td>NUMBER</td>\n",
       "      <td>NUMERIC</td>\n",
       "      <td>RECA_GPO_NRO_REC NUMERIC,</td>\n",
       "      <td>RECA_GPO_NRO_REC,</td>\n",
       "    </tr>\n",
       "    <tr>\n",
       "      <th>4</th>\n",
       "      <td>RECA_FEC_EMIS</td>\n",
       "      <td>DATE</td>\n",
       "      <td>TIMESTAMP</td>\n",
       "      <td>RECA_FEC_EMIS TIMESTAMP,</td>\n",
       "      <td>RECA_FEC_EMIS,</td>\n",
       "    </tr>\n",
       "  </tbody>\n",
       "</table>\n",
       "</div>"
      ],
      "text/plain": [
       "               Name          Type   Type_gcp                 Unnamed: 3  \\\n",
       "0           RECA_PK        NUMBER    NUMERIC           RECA_PK NUMERIC,   \n",
       "1             TO_PK        NUMBER    NUMERIC             TO_PK NUMERIC,   \n",
       "2  RECA_GPO_PTO_REC  VARCHAR2(60)     STRING   RECA_GPO_PTO_REC STRING,   \n",
       "3  RECA_GPO_NRO_REC        NUMBER    NUMERIC  RECA_GPO_NRO_REC NUMERIC,   \n",
       "4     RECA_FEC_EMIS          DATE  TIMESTAMP   RECA_FEC_EMIS TIMESTAMP,   \n",
       "\n",
       "          Unnamed: 4  \n",
       "0           RECA_PK,  \n",
       "1             TO_PK,  \n",
       "2  RECA_GPO_PTO_REC,  \n",
       "3  RECA_GPO_NRO_REC,  \n",
       "4     RECA_FEC_EMIS,  "
      ]
     },
     "execution_count": 50,
     "metadata": {},
     "output_type": "execute_result"
    }
   ],
   "source": [
    "data = data.rename(columns={'Unnamed: 2':'Type_gcp'})\n",
    "data.head()"
   ]
  },
  {
   "cell_type": "code",
   "execution_count": 60,
   "id": "e9e94086",
   "metadata": {},
   "outputs": [
    {
     "data": {
      "text/html": [
       "<div>\n",
       "<style scoped>\n",
       "    .dataframe tbody tr th:only-of-type {\n",
       "        vertical-align: middle;\n",
       "    }\n",
       "\n",
       "    .dataframe tbody tr th {\n",
       "        vertical-align: top;\n",
       "    }\n",
       "\n",
       "    .dataframe thead th {\n",
       "        text-align: right;\n",
       "    }\n",
       "</style>\n",
       "<table border=\"1\" class=\"dataframe\">\n",
       "  <thead>\n",
       "    <tr style=\"text-align: right;\">\n",
       "      <th></th>\n",
       "      <th>Name</th>\n",
       "      <th>Type</th>\n",
       "      <th>Unnamed: 3</th>\n",
       "      <th>Unnamed: 4</th>\n",
       "    </tr>\n",
       "    <tr>\n",
       "      <th>Type_gcp</th>\n",
       "      <th></th>\n",
       "      <th></th>\n",
       "      <th></th>\n",
       "      <th></th>\n",
       "    </tr>\n",
       "  </thead>\n",
       "  <tbody>\n",
       "    <tr>\n",
       "      <th>NUMERIC</th>\n",
       "      <td>59</td>\n",
       "      <td>59</td>\n",
       "      <td>59</td>\n",
       "      <td>59</td>\n",
       "    </tr>\n",
       "    <tr>\n",
       "      <th>STRING</th>\n",
       "      <td>30</td>\n",
       "      <td>30</td>\n",
       "      <td>30</td>\n",
       "      <td>30</td>\n",
       "    </tr>\n",
       "    <tr>\n",
       "      <th>TIMESTAMP</th>\n",
       "      <td>11</td>\n",
       "      <td>11</td>\n",
       "      <td>11</td>\n",
       "      <td>11</td>\n",
       "    </tr>\n",
       "  </tbody>\n",
       "</table>\n",
       "</div>"
      ],
      "text/plain": [
       "           Name  Type  Unnamed: 3  Unnamed: 4\n",
       "Type_gcp                                     \n",
       "NUMERIC      59    59          59          59\n",
       "STRING       30    30          30          30\n",
       "TIMESTAMP    11    11          11          11"
      ]
     },
     "execution_count": 60,
     "metadata": {},
     "output_type": "execute_result"
    }
   ],
   "source": [
    "data.groupby(by ='Type_gcp').count()"
   ]
  },
  {
   "cell_type": "code",
   "execution_count": 61,
   "id": "f56ffbd4",
   "metadata": {},
   "outputs": [
    {
     "data": {
      "text/plain": [
       "NUMERIC      59\n",
       "STRING       30\n",
       "TIMESTAMP    11\n",
       "Name: Type_gcp, dtype: int64"
      ]
     },
     "execution_count": 61,
     "metadata": {},
     "output_type": "execute_result"
    }
   ],
   "source": [
    "data['Type_gcp'].value_counts()"
   ]
  },
  {
   "cell_type": "code",
   "execution_count": null,
   "id": "26f91f98",
   "metadata": {},
   "outputs": [],
   "source": []
  }
 ],
 "metadata": {
  "kernelspec": {
   "display_name": "Python 3 (ipykernel)",
   "language": "python",
   "name": "python3"
  },
  "language_info": {
   "codemirror_mode": {
    "name": "ipython",
    "version": 3
   },
   "file_extension": ".py",
   "mimetype": "text/x-python",
   "name": "python",
   "nbconvert_exporter": "python",
   "pygments_lexer": "ipython3",
   "version": "3.7.11"
  }
 },
 "nbformat": 4,
 "nbformat_minor": 5
}
